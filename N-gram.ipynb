{
 "cells": [
  {
   "cell_type": "code",
   "execution_count": 1,
   "metadata": {},
   "outputs": [],
   "source": [
    "import pandas as pd\n",
    "import numpy as np\n",
    "from DataReader import split_sheet_into_test_training_per_word\n",
    "from nltk.tokenize import regexp_tokenize\n",
    "from nltk import bigrams\n",
    "from nltk import FreqDist\n",
    "from nltk.lm.preprocessing import padded_everygram_pipeline\n",
    "from nltk.lm import MLE\n",
    "x_test, x_train, y_test, y_train = split_sheet_into_test_training_per_word()"
   ]
  },
  {
   "cell_type": "code",
   "execution_count": 2,
   "metadata": {},
   "outputs": [],
   "source": [
    "def process_1(x, y, n):\n",
    "    start_symbol = '<s>'\n",
    "    clean = []\n",
    "    for index, row in x.iterrows():\n",
    "        if row['probe'] in row['line']:\n",
    "            line = regexp_tokenize(row['line'], \"[\\w']+\")\n",
    "            label = row['probe']+str(y.loc[index][0])\n",
    "            ind= line.index(row['probe'])\n",
    "            if ind-n+1>0:\n",
    "                s= line[ind-n+1:ind]\n",
    "                s.append(label)\n",
    "            elif ind!=0:\n",
    "                s = [start_symbol]*(n-1-ind)\n",
    "                s.extend(line[0:ind])\n",
    "                s.append(label)\n",
    "            else:\n",
    "                s = [start_symbol]*(n-1)\n",
    "                s.append(label)\n",
    "            clean.append(s)\n",
    "    return clean"
   ]
  },
  {
   "cell_type": "code",
   "execution_count": 3,
   "metadata": {},
   "outputs": [
    {
     "ename": "TypeError",
     "evalue": "expected string or bytes-like object",
     "output_type": "error",
     "traceback": [
      "\u001b[1;31m---------------------------------------------------------------------------\u001b[0m",
      "\u001b[1;31mTypeError\u001b[0m                                 Traceback (most recent call last)",
      "\u001b[1;32m<ipython-input-3-aee1d7e2eb5d>\u001b[0m in \u001b[0;36m<module>\u001b[1;34m()\u001b[0m\n\u001b[0;32m      4\u001b[0m \u001b[1;32mfor\u001b[0m \u001b[0mindex\u001b[0m\u001b[1;33m,\u001b[0m \u001b[0mrow\u001b[0m \u001b[1;32min\u001b[0m \u001b[0mx_train\u001b[0m\u001b[1;33m.\u001b[0m\u001b[0miterrows\u001b[0m\u001b[1;33m(\u001b[0m\u001b[1;33m)\u001b[0m\u001b[1;33m:\u001b[0m\u001b[1;33m\u001b[0m\u001b[0m\n\u001b[0;32m      5\u001b[0m     \u001b[1;32mif\u001b[0m \u001b[0mrow\u001b[0m\u001b[1;33m[\u001b[0m\u001b[1;34m'probe'\u001b[0m\u001b[1;33m]\u001b[0m \u001b[1;32min\u001b[0m \u001b[0mrow\u001b[0m\u001b[1;33m[\u001b[0m\u001b[1;34m'line'\u001b[0m\u001b[1;33m]\u001b[0m\u001b[1;33m:\u001b[0m\u001b[1;33m\u001b[0m\u001b[0m\n\u001b[1;32m----> 6\u001b[1;33m         \u001b[0mline\u001b[0m \u001b[1;33m=\u001b[0m \u001b[0mregexp_tokenize\u001b[0m\u001b[1;33m(\u001b[0m\u001b[0mrow\u001b[0m\u001b[1;33m[\u001b[0m\u001b[1;34m'line'\u001b[0m\u001b[1;33m]\u001b[0m\u001b[1;33m,\u001b[0m \u001b[1;34m\"[\\w']+\"\u001b[0m\u001b[1;33m)\u001b[0m\u001b[1;33m\u001b[0m\u001b[0m\n\u001b[0m\u001b[0;32m      7\u001b[0m         \u001b[0mlabel\u001b[0m \u001b[1;33m=\u001b[0m \u001b[0mrow\u001b[0m\u001b[1;33m[\u001b[0m\u001b[1;34m'probe'\u001b[0m\u001b[1;33m]\u001b[0m\u001b[1;33m+\u001b[0m\u001b[0mstr\u001b[0m\u001b[1;33m(\u001b[0m\u001b[0my_train\u001b[0m\u001b[1;33m.\u001b[0m\u001b[0mloc\u001b[0m\u001b[1;33m[\u001b[0m\u001b[0mindex\u001b[0m\u001b[1;33m]\u001b[0m\u001b[1;33m[\u001b[0m\u001b[1;36m0\u001b[0m\u001b[1;33m]\u001b[0m\u001b[1;33m)\u001b[0m\u001b[1;33m\u001b[0m\u001b[0m\n\u001b[0;32m      8\u001b[0m         \u001b[0mind\u001b[0m\u001b[1;33m=\u001b[0m \u001b[0mline\u001b[0m\u001b[1;33m.\u001b[0m\u001b[0mindex\u001b[0m\u001b[1;33m(\u001b[0m\u001b[0mrow\u001b[0m\u001b[1;33m[\u001b[0m\u001b[1;34m'probe'\u001b[0m\u001b[1;33m]\u001b[0m\u001b[1;33m)\u001b[0m\u001b[1;33m\u001b[0m\u001b[0m\n",
      "\u001b[1;32m~\\AppData\\Roaming\\Python\\Python36\\site-packages\\nltk\\tokenize\\regexp.py\u001b[0m in \u001b[0;36mregexp_tokenize\u001b[1;34m(text, pattern, gaps, discard_empty, flags)\u001b[0m\n\u001b[0;32m    214\u001b[0m     \"\"\"\n\u001b[0;32m    215\u001b[0m     \u001b[0mtokenizer\u001b[0m \u001b[1;33m=\u001b[0m \u001b[0mRegexpTokenizer\u001b[0m\u001b[1;33m(\u001b[0m\u001b[0mpattern\u001b[0m\u001b[1;33m,\u001b[0m \u001b[0mgaps\u001b[0m\u001b[1;33m,\u001b[0m \u001b[0mdiscard_empty\u001b[0m\u001b[1;33m,\u001b[0m \u001b[0mflags\u001b[0m\u001b[1;33m)\u001b[0m\u001b[1;33m\u001b[0m\u001b[0m\n\u001b[1;32m--> 216\u001b[1;33m     \u001b[1;32mreturn\u001b[0m \u001b[0mtokenizer\u001b[0m\u001b[1;33m.\u001b[0m\u001b[0mtokenize\u001b[0m\u001b[1;33m(\u001b[0m\u001b[0mtext\u001b[0m\u001b[1;33m)\u001b[0m\u001b[1;33m\u001b[0m\u001b[0m\n\u001b[0m\u001b[0;32m    217\u001b[0m \u001b[1;33m\u001b[0m\u001b[0m\n\u001b[0;32m    218\u001b[0m \u001b[1;33m\u001b[0m\u001b[0m\n",
      "\u001b[1;32m~\\AppData\\Roaming\\Python\\Python36\\site-packages\\nltk\\tokenize\\regexp.py\u001b[0m in \u001b[0;36mtokenize\u001b[1;34m(self, text)\u001b[0m\n\u001b[0;32m    131\u001b[0m         \u001b[1;31m# If our regexp matches tokens, use re.findall:\u001b[0m\u001b[1;33m\u001b[0m\u001b[1;33m\u001b[0m\u001b[0m\n\u001b[0;32m    132\u001b[0m         \u001b[1;32melse\u001b[0m\u001b[1;33m:\u001b[0m\u001b[1;33m\u001b[0m\u001b[0m\n\u001b[1;32m--> 133\u001b[1;33m             \u001b[1;32mreturn\u001b[0m \u001b[0mself\u001b[0m\u001b[1;33m.\u001b[0m\u001b[0m_regexp\u001b[0m\u001b[1;33m.\u001b[0m\u001b[0mfindall\u001b[0m\u001b[1;33m(\u001b[0m\u001b[0mtext\u001b[0m\u001b[1;33m)\u001b[0m\u001b[1;33m\u001b[0m\u001b[0m\n\u001b[0m\u001b[0;32m    134\u001b[0m \u001b[1;33m\u001b[0m\u001b[0m\n\u001b[0;32m    135\u001b[0m     \u001b[1;32mdef\u001b[0m \u001b[0mspan_tokenize\u001b[0m\u001b[1;33m(\u001b[0m\u001b[0mself\u001b[0m\u001b[1;33m,\u001b[0m \u001b[0mtext\u001b[0m\u001b[1;33m)\u001b[0m\u001b[1;33m:\u001b[0m\u001b[1;33m\u001b[0m\u001b[0m\n",
      "\u001b[1;31mTypeError\u001b[0m: expected string or bytes-like object"
     ]
    }
   ],
   "source": [
    "n=2\n",
    "start_symbol = '<s>'\n",
    "x_train_clean = [] #process_1(x_train, y_train, n)\n",
    "for index, row in x_train.iterrows():\n",
    "    if row['probe'] in row['line']:\n",
    "        line = regexp_tokenize(row['line'], \"[\\w']+\")\n",
    "        label = row['probe']+str(y_train.loc[index][0])\n",
    "        ind= line.index(row['probe'])\n",
    "        if ind-n+1>0:\n",
    "            s= line[ind-n+1:ind]\n",
    "            s.append(label)\n",
    "        elif ind!=0:\n",
    "            s = [start_symbol]*(n-1-ind)\n",
    "            s.extend(line[0:ind])\n",
    "            s.append(label)\n",
    "        else:\n",
    "            s = [start_symbol]*(n-1)\n",
    "            s.append(label)\n",
    "        x_train_clean.append(s)"
   ]
  },
  {
   "cell_type": "code",
   "execution_count": null,
   "metadata": {},
   "outputs": [],
   "source": [
    "train_data, padded_sents = padded_everygram_pipeline(n, x_train_clean)\n",
    "\n",
    "model= MLE(n)\n",
    "model.fit(train_data, padded_sents)"
   ]
  },
  {
   "cell_type": "code",
   "execution_count": null,
   "metadata": {},
   "outputs": [],
   "source": [
    "correct, error, noidea=0,0,0\n",
    "\n",
    "for index, row in x_test.iterrows():\n",
    "    p=[]\n",
    "    for i in range(4):\n",
    "        line= regexp_tokenize(row['line'], \"[\\w']+\")\n",
    "        ind = line.index(row['probe'])\n",
    "        prior =[]\n",
    "        if ind-n+1>0:\n",
    "            s= line[ind-n+1:ind]\n",
    "            prior.extend(s)\n",
    "        elif ind!=0:\n",
    "            s = [start_symbol]*(n-1-ind)\n",
    "            s.extend(line[0:ind])\n",
    "            prior.extend(s)\n",
    "        else:\n",
    "            s = [start_symbol]*(n-1)\n",
    "            prior.extend(s)\n",
    "        p.append(model.score(row['probe']+str(i+1),prior))\n",
    "    if sum(p)<0.00001:\n",
    "        noidea+=1\n",
    "    elif p.index(max(p))+1 == y_test.loc[index][0]:\n",
    "        correct+=1\n",
    "    else:\n",
    "        error+=1"
   ]
  },
  {
   "cell_type": "code",
   "execution_count": null,
   "metadata": {},
   "outputs": [],
   "source": [
    "print(correct)\n",
    "print(error)\n",
    "print(noidea)"
   ]
  },
  {
   "cell_type": "code",
   "execution_count": 7,
   "metadata": {},
   "outputs": [],
   "source": [
    "def process_4(x, y, n):\n",
    "    start_symbol = '<s>'\n",
    "    clean1, clean2, clean3, clean4 = [], [], [], []\n",
    "    for index, row in x.iterrows():\n",
    "        if row['probe'] in row['line']:\n",
    "            line = regexp_tokenize(row['line'], \"[\\w']+\")\n",
    "            label = row['probe']\n",
    "            ind= line.index(row['probe'])\n",
    "            if ind-n+1>0:\n",
    "                s= line[ind-n+1:ind]\n",
    "            elif ind!=0:\n",
    "                s = [start_symbol]*(n-1-ind)\n",
    "                s.extend(line[0:ind])\n",
    "            else:\n",
    "                s = [start_symbol]*(n-1)\n",
    "            s.append(label)\n",
    "            if y.loc[index][0]== 1:\n",
    "                clean1.append(s)\n",
    "            elif y.loc[index][0]== 2:\n",
    "                clean2.append(s)\n",
    "            elif y.loc[index][0]== 3:\n",
    "                clean3.append(s)\n",
    "            else:\n",
    "                clean4.append(s)\n",
    "    return clean1, clean2, clean3, clean4"
   ]
  },
  {
   "cell_type": "code",
   "execution_count": 8,
   "metadata": {},
   "outputs": [],
   "source": [
    "clean1, clean2, clean3, clean4 = process_4(x_train, y_train, n)\n",
    "train_data1, padded_sents1 = padded_everygram_pipeline(n, clean1)\n",
    "train_data2, padded_sents2 = padded_everygram_pipeline(n, clean2)\n",
    "train_data3, padded_sents3 = padded_everygram_pipeline(n, clean3)\n",
    "train_data4, padded_sents4 = padded_everygram_pipeline(n, clean4)\n",
    "\n",
    "model1= MLE(n)\n",
    "model1.fit(train_data1, padded_sents1)\n",
    "model2= MLE(n)\n",
    "model2.fit(train_data2, padded_sents2)\n",
    "model3= MLE(n)\n",
    "model3.fit(train_data3, padded_sents3)\n",
    "model4= MLE(n)\n",
    "model4.fit(train_data4, padded_sents4)\n",
    "models = [model1, model2, model3, model4]"
   ]
  },
  {
   "cell_type": "code",
   "execution_count": 10,
   "metadata": {},
   "outputs": [],
   "source": [
    "correct, error, noidea=0,0,0\n",
    "\n",
    "for index, row in x_test.iterrows():\n",
    "    p=[]\n",
    "    line= regexp_tokenize(row['line'], \"[\\w']+\")\n",
    "    ind = line.index(row['probe'])\n",
    "    prior =[]\n",
    "    if ind-n+1>0:\n",
    "        s= line[ind-n+1:ind]\n",
    "    elif ind!=0:\n",
    "        s = [start_symbol]*(n-1-ind)\n",
    "        s.extend(line[0:ind])\n",
    "    else:\n",
    "        s = [start_symbol]*(n-1)\n",
    "    prior.extend(s)\n",
    "    for i in range(len(models)):\n",
    "        p.append(models[i].score(row['probe'],prior))\n",
    "    if sum(p)<0.00001:\n",
    "        noidea+=1\n",
    "    elif p.index(max(p))+1 == y_test.loc[index][0]:\n",
    "        correct+=1\n",
    "    else:\n",
    "        error+=1"
   ]
  },
  {
   "cell_type": "code",
   "execution_count": 11,
   "metadata": {},
   "outputs": [
    {
     "name": "stdout",
     "output_type": "stream",
     "text": [
      "7181\n",
      "460\n",
      "3744\n"
     ]
    }
   ],
   "source": [
    "print(correct)\n",
    "print(error)\n",
    "print(noidea)"
   ]
  },
  {
   "cell_type": "code",
   "execution_count": 6,
   "metadata": {},
   "outputs": [
    {
     "data": {
      "text/plain": [
       "'Males of the pack sense the progression of the mating dance as well . Fucked her ? Fucked her . Cool . The pack rejoices . Yes ! Over time , the male and female ... continue to practice the physicality of mating . Oh ! Yes !'"
      ]
     },
     "execution_count": 6,
     "metadata": {},
     "output_type": "execute_result"
    }
   ],
   "source": [
    "' '.join(x_train.iloc[0]['line'])"
   ]
  },
  {
   "cell_type": "code",
   "execution_count": null,
   "metadata": {},
   "outputs": [],
   "source": []
  },
  {
   "cell_type": "code",
   "execution_count": null,
   "metadata": {},
   "outputs": [],
   "source": []
  }
 ],
 "metadata": {
  "kernelspec": {
   "display_name": "Python 3",
   "language": "python",
   "name": "python3"
  },
  "language_info": {
   "codemirror_mode": {
    "name": "ipython",
    "version": 3
   },
   "file_extension": ".py",
   "mimetype": "text/x-python",
   "name": "python",
   "nbconvert_exporter": "python",
   "pygments_lexer": "ipython3",
   "version": "3.7.6"
  }
 },
 "nbformat": 4,
 "nbformat_minor": 2
}
