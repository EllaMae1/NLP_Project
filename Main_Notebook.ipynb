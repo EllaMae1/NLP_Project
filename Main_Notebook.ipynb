{
 "cells": [
  {
   "cell_type": "markdown",
   "source": [
    "This is the main notebook of the report, it'll contain all of our findings and developments."
   ],
   "metadata": {
    "collapsed": false
   }
  },
  {
   "cell_type": "code",
   "execution_count": 1,
   "metadata": {
    "collapsed": true
   },
   "outputs": [],
   "source": [
    "import DataReader\n",
    "\n",
    "x_test, x_train, y_test, y_train = DataReader.split_sheet_into_test_training_per_word()\n"
   ]
  }
 ],
 "metadata": {
  "kernelspec": {
   "display_name": "Python 3",
   "language": "python",
   "name": "python3"
  },
  "language_info": {
   "codemirror_mode": {
    "name": "ipython",
    "version": 2
   },
   "file_extension": ".py",
   "mimetype": "text/x-python",
   "name": "python",
   "nbconvert_exporter": "python",
   "pygments_lexer": "ipython2",
   "version": "2.7.6"
  }
 },
 "nbformat": 4,
 "nbformat_minor": 0
}