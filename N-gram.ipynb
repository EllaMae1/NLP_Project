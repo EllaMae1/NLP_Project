{
 "cells": [
  {
   "cell_type": "code",
   "execution_count": 4,
   "metadata": {},
   "outputs": [],
   "source": [
    "import pandas as pd\n",
    "import numpy as np\n",
    "from DataReader import split_sheet_into_test_training_per_word\n",
    "from nltk.tokenize import regexp_tokenize\n",
    "from nltk import bigrams\n",
    "from nltk import FreqDist\n",
    "from nltk.lm.preprocessing import padded_everygram_pipeline\n",
    "from nltk.lm import MLE\n",
    "x_test, x_train, y_test, y_train = split_sheet_into_test_training_per_word()"
   ]
  },
  {
   "cell_type": "code",
   "execution_count": 30,
   "metadata": {},
   "outputs": [],
   "source": [
    "n=2\n",
    "start_symbol = '<s>'\n",
    "x_train_clean = []\n",
    "for index, row in x_train.iterrows():\n",
    "    if row['probe'] in row['line']:\n",
    "        line = regexp_tokenize(row['line'], \"[\\w']+\")\n",
    "        label = row['probe']+str(y_train.loc[index][0])\n",
    "        ind= line.index(row['probe'])\n",
    "        if ind-n+1>0:\n",
    "            s= line[ind-n+1:ind]\n",
    "            s.append(label)\n",
    "            x_train_clean.append(s)\n",
    "        elif ind!=0:\n",
    "            s = [start_symbol]*(n-1-ind)\n",
    "            s.extend(line[0:ind])\n",
    "            s.append(label)\n",
    "            x_train_clean.append(s)\n",
    "        else:\n",
    "            s = [start_symbol]*(n-1)\n",
    "            s.append(label)\n",
    "            x_train_clean.append(s)"
   ]
  },
  {
   "cell_type": "code",
   "execution_count": 31,
   "metadata": {},
   "outputs": [],
   "source": [
    "train_data, padded_sents = padded_everygram_pipeline(n, x_train_clean)\n",
    "\n",
    "model= MLE(n)\n",
    "model.fit(train_data, padded_sents)"
   ]
  },
  {
   "cell_type": "code",
   "execution_count": 32,
   "metadata": {},
   "outputs": [],
   "source": [
    "correct, error, noidea=0,0,0\n",
    "\n",
    "for index, row in x_test.iterrows():\n",
    "    p=[]\n",
    "    for i in range(4):\n",
    "        line= regexp_tokenize(row['line'], \"[\\w']+\")\n",
    "        ind = line.index(row['probe'])\n",
    "        prior =[]\n",
    "        if ind-n+1>0:\n",
    "            s= line[ind-n+1:ind]\n",
    "            prior.extend(s)\n",
    "        elif ind!=0:\n",
    "            s = [start_symbol]*(n-1-ind)\n",
    "            s.extend(line[0:ind])\n",
    "            prior.extend(s)\n",
    "        else:\n",
    "            s = [start_symbol]*(n-1)\n",
    "            prior.extend(s)\n",
    "        p.append(model.score(row['probe']+str(i+1),prior))\n",
    "    if sum(p)<0.00001:\n",
    "        noidea+=1\n",
    "    elif p.index(max(p))+1 == y_test.loc[index][0]:\n",
    "        correct+=1\n",
    "    else:\n",
    "        error+=1"
   ]
  },
  {
   "cell_type": "code",
   "execution_count": 33,
   "metadata": {},
   "outputs": [
    {
     "name": "stdout",
     "output_type": "stream",
     "text": [
      "7403\n",
      "268\n",
      "3714\n"
     ]
    }
   ],
   "source": [
    "print(correct)\n",
    "print(error)\n",
    "print(noidea)"
   ]
  },
  {
   "cell_type": "code",
   "execution_count": null,
   "metadata": {},
   "outputs": [],
   "source": []
  }
 ],
 "metadata": {
  "kernelspec": {
   "display_name": "Python 3",
   "language": "python",
   "name": "python3"
  },
  "language_info": {
   "codemirror_mode": {
    "name": "ipython",
    "version": 3
   },
   "file_extension": ".py",
   "mimetype": "text/x-python",
   "name": "python",
   "nbconvert_exporter": "python",
   "pygments_lexer": "ipython3",
   "version": "3.6.5"
  }
 },
 "nbformat": 4,
 "nbformat_minor": 2
}
