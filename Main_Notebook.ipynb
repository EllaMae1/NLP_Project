{
 "cells": [
  {
   "cell_type": "markdown",
   "metadata": {
    "id": "GN9FHpFQX0gJ"
   },
   "source": [
    "This is the main notebook of the report, it'll contain all of our findings and developments."
   ]
  },
  {
   "cell_type": "code",
   "execution_count": 5,
   "metadata": {
    "pycharm": {
     "name": "#%%\n"
    }
   },
   "outputs": [],
   "source": [
    "import DataReader\n",
    "import Word2VecAverage\n",
    "\n",
    "x_test_set, x_train_set, y_test_set, y_train_set = DataReader.split_sheet_into_test_training_per_word()\n",
    "w2v = Word2VecAverage.Word2VecAverage()\n",
    "w2v.train_word2vec()\n",
    "\n",
    "x_test_features = w2v.create_feature_set(x_test_set)"
   ]
  },
  {
   "cell_type": "code",
   "execution_count": 6,
   "metadata": {
    "pycharm": {
     "name": "#%%\n"
    }
   },
   "outputs": [
    {
     "name": "stderr",
     "output_type": "stream",
     "text": [
      "C:\\Users\\lolco\\anaconda3\\lib\\site-packages\\sklearn\\utils\\validation.py:72: DataConversionWarning: A column-vector y was passed when a 1d array was expected. Please change the shape of y to (n_samples, ), for example using ravel().\n",
      "  return f(**kwargs)\n",
      "C:\\Users\\lolco\\anaconda3\\lib\\site-packages\\sklearn\\linear_model\\_logistic.py:762: ConvergenceWarning: lbfgs failed to converge (status=1):\n",
      "STOP: TOTAL NO. of ITERATIONS REACHED LIMIT.\n",
      "\n",
      "Increase the number of iterations (max_iter) or scale the data as shown in:\n",
      "    https://scikit-learn.org/stable/modules/preprocessing.html\n",
      "Please also refer to the documentation for alternative solver options:\n",
      "    https://scikit-learn.org/stable/modules/linear_model.html#logistic-regression\n",
      "  n_iter_i = _check_optimize_result(\n"
     ]
    },
    {
     "data": {
      "text/plain": "0.6892121962544497"
     },
     "execution_count": 6,
     "metadata": {},
     "output_type": "execute_result"
    }
   ],
   "source": [
    "from sklearn.linear_model import LogisticRegression\n",
    "from sklearn import metrics\n",
    "clf = LogisticRegression()\n",
    "clf.fit(x_test_features, y_test_set)\n",
    "x_train_features = w2v.create_feature_set(x_train_set)\n",
    "test_pred_clf = clf.predict(x_test_features)\n",
    "metrics.accuracy_score(test_pred_clf, y_test_set)"
   ]
  },
  {
   "cell_type": "markdown",
   "metadata": {},
   "source": [
    "# Ngram"
   ]
  },
  {
   "cell_type": "code",
   "execution_count": 7,
   "metadata": {},
   "outputs": [],
   "source": [
    "import Ngram\n",
    "from DataReader import split_sheet_into_test_training_per_word\n",
    "x_test, x_train, y_test, y_train = split_sheet_into_test_training_per_word()\n",
    "n=2"
   ]
  },
  {
   "cell_type": "markdown",
   "metadata": {},
   "source": [
    "One model:"
   ]
  },
  {
   "cell_type": "code",
   "execution_count": 8,
   "metadata": {},
   "outputs": [
    {
     "name": "stdout",
     "output_type": "stream",
     "text": [
      "correct, error, doesn't know (in%)\n",
      "(0.6562451632874168, 0.04550379198266522, 0.298251044729918)\n"
     ]
    }
   ],
   "source": [
    "x_clean = Ngram.process_1(x_train, y_train, n)\n",
    "model = Ngram.get_model( x_clean,n)\n",
    "print('correct, error, doesn\\'t know (in%)')\n",
    "print(Ngram.compute_score(x_test, y_test, model, n))"
   ]
  },
  {
   "cell_type": "markdown",
   "metadata": {},
   "source": [
    "Multiple models (one per definition):"
   ]
  },
  {
   "cell_type": "code",
   "execution_count": 9,
   "metadata": {},
   "outputs": [
    {
     "name": "stdout",
     "output_type": "stream",
     "text": [
      "correct, error, doesn't know (in%)\n",
      "(0.6489707475622969, 0.05277820770778517, 0.298251044729918)\n"
     ]
    }
   ],
   "source": [
    "x1,x2,x3,x4 = Ngram.process_4(x_train, y_train, n)\n",
    "models = []\n",
    "xs = [x1,x2,x3,x4]\n",
    "for x in xs:\n",
    "    models.append(Ngram.get_model(x, n))\n",
    "print('correct, error, doesn\\'t know (in%)')\n",
    "print(Ngram.compute_score(x_test, y_test, models, n))"
   ]
  },
  {
   "cell_type": "markdown",
   "metadata": {},
   "source": [
    "# BoW approach"
   ]
  },
  {
   "cell_type": "code",
   "execution_count": 10,
   "metadata": {},
   "outputs": [
    {
     "name": "stdout",
     "output_type": "stream",
     "text": [
      "correct, wrong, noidea\n",
      "(0.8277356446370531, 0.09642470205850487, 0.07583965330444203)\n"
     ]
    }
   ],
   "source": [
    "import Bow\n",
    "mod = Bow.Bow(x_train, y_train)\n",
    "print(\"correct, wrong, noidea\")\n",
    "print(mod.get_score(x_test,y_test))"
   ]
  },
  {
   "cell_type": "markdown",
   "metadata": {},
   "source": [
    "# Baseline"
   ]
  },
  {
   "cell_type": "code",
   "execution_count": 8,
   "metadata": {},
   "outputs": [
    {
     "name": "stdout",
     "output_type": "stream",
     "text": [
      "              precision    recall  f1-score   support\n",
      "\n",
      "           -       0.00      0.00      0.00        74\n",
      "           1       0.94      0.11      0.19      4364\n",
      "           2       0.33      0.92      0.48      1830\n",
      "           3       0.23      0.99      0.37       163\n",
      "           4       0.28      1.00      0.44        30\n",
      "\n",
      "    accuracy                           0.36      6461\n",
      "   macro avg       0.35      0.60      0.30      6461\n",
      "weighted avg       0.73      0.36      0.28      6461\n",
      "\n"
     ]
    }
   ],
   "source": [
    "from MostCommon import MostCommon\n",
    "from sklearn import metrics\n",
    "import numpy as np\n",
    "mc = MostCommon()\n",
    "counts = mc.createCounts()\n",
    "predicted = mc.classify(mc.x_test, counts)\n",
    "testl = np.ravel(mc.y_test)\n",
    "print(metrics.classification_report(testl, predicted, zero_division=1))"
   ]
  },
  {
   "cell_type": "markdown",
   "metadata": {},
   "source": [
    "# Semantic dependencies"
   ]
  },
  {
   "cell_type": "code",
   "execution_count": 7,
   "metadata": {},
   "outputs": [
    {
     "name": "stdout",
     "output_type": "stream",
     "text": [
      "              precision    recall  f1-score   support\n",
      "\n",
      "           -       0.15      0.77      0.25        86\n",
      "           1       0.89      0.71      0.79      4375\n",
      "           2       0.64      0.69      0.66      1815\n",
      "           3       0.29      0.75      0.42       153\n",
      "           4       0.21      0.94      0.35        32\n",
      "\n",
      "    accuracy                           0.71      6461\n",
      "   macro avg       0.43      0.77      0.49      6461\n",
      "weighted avg       0.79      0.71      0.74      6461\n",
      "\n"
     ]
    }
   ],
   "source": [
    "from SemanticDep import SemanticDep\n",
    "from sklearn.naive_bayes import MultinomialNB\n",
    "from sklearn import metrics\n",
    "sd = SemanticDep()\n",
    "f = sd.createFeatures(sd.x_train)\n",
    "l = np.ravel(sd.y_train)\n",
    "testf = sd.createFeatures(sd.x_test)\n",
    "testl = np.ravel(sd.y_test)\n",
    "\n",
    "# train the model on the features\n",
    "clf = MultinomialNB()\n",
    "clf.fit(f, l)\n",
    "\n",
    "# predict the labels for the test data\n",
    "predicted = clf.predict(testf)\n",
    "# output your results\n",
    "print(metrics.classification_report(testl, predicted))"
   ]
  },
  {
   "cell_type": "code",
   "execution_count": 10,
   "metadata": {},
   "outputs": [],
   "source": []
  }
 ],
 "metadata": {
  "colab": {
   "include_colab_link": true,
   "name": "Main_Notebook.ipynb",
   "provenance": []
  },
  "kernelspec": {
   "display_name": "Python 3",
   "language": "python",
   "name": "python3"
  },
  "language_info": {
   "codemirror_mode": {
    "name": "ipython",
    "version": 3
   },
   "file_extension": ".py",
   "mimetype": "text/x-python",
   "name": "python",
   "nbconvert_exporter": "python",
   "pygments_lexer": "ipython3",
   "version": "3.8.5"
  }
 },
 "nbformat": 4,
 "nbformat_minor": 1
}
